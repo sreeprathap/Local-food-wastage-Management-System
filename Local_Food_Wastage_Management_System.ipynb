{
 "cells": [
  {
   "cell_type": "markdown",
   "id": "0f279ba3-f111-4835-a73d-eabdb3c8fb56",
   "metadata": {},
   "source": [
    "### Project Name - LOCAL FOOD WASTAGE MANAGEMENT SYSTEM"
   ]
  },
  {
   "cell_type": "markdown",
   "id": "f157041a-9be5-4ad3-8a88-076f9c080e74",
   "metadata": {},
   "source": [
    "#### Project Type   - Applied Data Science, EDA, Data-Driven Application Development, End-to-End Data Science Pipeline\n",
    "\n",
    "#### Contribution   - Individual\n",
    "###### Name: SREEPRATHAP M"
   ]
  },
  {
   "cell_type": "markdown",
   "id": "53345e97-bcb4-49c7-8521-837b62b1c262",
   "metadata": {},
   "source": [
    "#### 1. Setup & Data Preparation"
   ]
  },
  {
   "cell_type": "markdown",
   "id": "b1e500fc-c3ba-4ff8-99d6-9e9ccca27971",
   "metadata": {},
   "source": [
    "#####  1.1: Import Libraries in Python"
   ]
  },
  {
   "cell_type": "code",
   "execution_count": 1,
   "id": "2fab1e0c-31d5-471a-bc79-f54cdcaddfbe",
   "metadata": {},
   "outputs": [],
   "source": [
    "import pandas as pd\n",
    "import mysql.connector\n",
    "from sqlalchemy import create_engine\n",
    "from mysql.connector import Error"
   ]
  },
  {
   "cell_type": "markdown",
   "id": "b5bd1907-55f9-4665-b9f6-296087fbc542",
   "metadata": {},
   "source": [
    "##### 1.2: Load CSV Datasets"
   ]
  },
  {
   "cell_type": "code",
   "execution_count": 2,
   "id": "9d027918-2cac-4514-a584-6cdc9ea2e949",
   "metadata": {},
   "outputs": [],
   "source": [
    "providers = pd.read_csv(\"providers_data.csv\")\n",
    "receivers = pd.read_csv(\"receivers_data.csv\")\n",
    "food_listings = pd.read_csv(\"food_listings_data.csv\")\n",
    "claims = pd.read_csv(\"claims_data.csv\")"
   ]
  },
  {
   "cell_type": "markdown",
   "id": "71630e1e-d767-4917-9197-9b965b20adcb",
   "metadata": {},
   "source": [
    "#### 2. Database Creation & Connection"
   ]
  },
  {
   "cell_type": "markdown",
   "id": "da641f0e-e36c-4214-b52b-ebc0334d0777",
   "metadata": {},
   "source": [
    "##### 2.1 MySQL connection Establishment"
   ]
  },
  {
   "cell_type": "code",
   "execution_count": 3,
   "id": "ef86a433-a7b2-44d6-9d2b-9f69f1f9aea4",
   "metadata": {},
   "outputs": [],
   "source": [
    "conn = mysql.connector.connect(\n",
    "    host=\"localhost\",   \n",
    "    user=\"systemmanage\", # update your username\n",
    "    password=\"System123\" # update your password\n",
    ")\n",
    "cursor = conn.cursor()"
   ]
  },
  {
   "cell_type": "markdown",
   "id": "e0991e68-70e7-4f00-bf62-56a196843080",
   "metadata": {},
   "source": [
    "##### 2.2 Createing Database in MySQL database"
   ]
  },
  {
   "cell_type": "code",
   "execution_count": 4,
   "id": "a11fb80f-a7ec-4ad1-9648-781163358426",
   "metadata": {},
   "outputs": [],
   "source": [
    "cursor.execute(\"CREATE DATABASE IF NOT EXISTS food_wastage\")\n",
    "cursor.close()\n",
    "conn.close()"
   ]
  },
  {
   "cell_type": "markdown",
   "id": "b20aee1d-2ad4-4cc5-973a-0ec10d535227",
   "metadata": {},
   "source": [
    "##### 2.3 Create Tables"
   ]
  },
  {
   "cell_type": "code",
   "execution_count": 5,
   "id": "9c4117a6-2305-4a7b-91f9-cdf15dd096d3",
   "metadata": {},
   "outputs": [
    {
     "name": "stdout",
     "output_type": "stream",
     "text": [
      "Checking MySQL connection...\n",
      "Connected to MySQL server at 127.0.0.1:3306\n",
      "Database 'food_wastage' is ready.\n",
      "Table 'providers_data' created and data inserted.\n",
      "Table 'claims_data' created and data inserted.\n",
      "Table 'food_listings_data' created and data inserted.\n",
      "Table 'receivers_data' created and data inserted.\n"
     ]
    }
   ],
   "source": [
    "\n",
    "MYSQL_HOST = \"127.0.0.1\"            # check your credetial are correct\n",
    "MYSQL_PORT = 3306                   # check your credetial are correct\n",
    "MYSQL_USER = \"systemmanage\"         # update your username\n",
    "MYSQL_PASSWORD = \"System123\"        # update your password\n",
    "DATABASE_NAME = \"food_wastage\"      # storing data base to variable\n",
    "TABLE_NAME1 = \"providers_data\"      # storing table name to variable\n",
    "TABLE_NAME2 = \"claims_data\"         # storing table name to variable\n",
    "TABLE_NAME3 = \"food_listings_data\"  # storing table name to variable\n",
    "TABLE_NAME4 = \"receivers_data\"      # storing table name to variable\n",
    "\n",
    "try:\n",
    "    print(\"Checking MySQL connection...\")\n",
    "    conn = mysql.connector.connect(\n",
    "        host=MYSQL_HOST,\n",
    "        port=MYSQL_PORT,\n",
    "        user=MYSQL_USER,\n",
    "        password=MYSQL_PASSWORD\n",
    "    )\n",
    "    if conn.is_connected():\n",
    "        print(f\"Connected to MySQL server at {MYSQL_HOST}:{MYSQL_PORT}\")\n",
    "\n",
    "        cursor = conn.cursor()\n",
    "        cursor.execute(f\"CREATE DATABASE IF NOT EXISTS {DATABASE_NAME}\")\n",
    "        print(f\"Database '{DATABASE_NAME}' is ready.\")\n",
    "\n",
    "\n",
    "        # Create SQLAlchemy engine for data insertion\n",
    "        engine = create_engine(\n",
    "            f\"mysql+mysqlconnector://{MYSQL_USER}:{MYSQL_PASSWORD}@{MYSQL_HOST}:{MYSQL_PORT}/{DATABASE_NAME}\"\n",
    "        )\n",
    "\n",
    "        # Insert into MySQL (auto-create table)\n",
    "        providers.to_sql(TABLE_NAME1, con=engine, if_exists=\"replace\", index=False)\n",
    "        print(f\"Table '{TABLE_NAME1}' created and data inserted.\")\n",
    "\n",
    "        claims.to_sql(TABLE_NAME2, con=engine, if_exists=\"replace\", index=False)\n",
    "        print(f\"Table '{TABLE_NAME2}' created and data inserted.\")\n",
    "\n",
    "        food_listings.to_sql(TABLE_NAME3, con=engine, if_exists=\"replace\", index=False)\n",
    "        print(f\"Table '{TABLE_NAME3}' created and data inserted.\")\n",
    "\n",
    "        receivers.to_sql(TABLE_NAME4, con=engine, if_exists=\"replace\", index=False)\n",
    "        print(f\"Table '{TABLE_NAME4}' created and data inserted.\")\n",
    "\n",
    "        cursor.close()\n",
    "        conn.close()\n",
    "\n",
    "except Error as e:\n",
    "    print(f\"MySQL connection failed: {e}\")\n",
    "    print(\"Possible fixes: Check MySQL service, host, port, username, and password.\")"
   ]
  },
  {
   "cell_type": "markdown",
   "id": "9c36507f-3421-4a92-9a9a-d5a5b0824ea8",
   "metadata": {},
   "source": [
    "### 3. CRUD Operations (Python + SQL)"
   ]
  },
  {
   "cell_type": "code",
   "execution_count": 6,
   "id": "7a487408-fbb1-4456-b35f-42a49060ed39",
   "metadata": {},
   "outputs": [],
   "source": [
    "conn = mysql.connector.connect(\n",
    "    host=\"localhost\",\n",
    "    user=\"systemmanage\",\n",
    "    password=\"System123\",\n",
    "    database=\"food_wastage\"\n",
    ")\n",
    "cursor = conn.cursor()"
   ]
  },
  {
   "cell_type": "markdown",
   "id": "46d3f3ac-f640-42f6-a3b9-723930d97ed6",
   "metadata": {},
   "source": [
    "#### 3.1 Inserting data to table"
   ]
  },
  {
   "cell_type": "code",
   "execution_count": 7,
   "id": "420d826c-02f4-42a2-a0b6-f1205a5d850a",
   "metadata": {},
   "outputs": [],
   "source": [
    "# Insert Data\n",
    "cursor.execute(\"INSERT INTO providers_data VALUES (1001, 'ABC Restaurant', 'Restaurant', '123 Street', 'CityX', '9876543210')\")\n",
    "conn.commit()"
   ]
  },
  {
   "cell_type": "markdown",
   "id": "f22ad7d9-c9be-4f1d-a2ff-436f3856654e",
   "metadata": {},
   "source": [
    "#### 3.2 Reading added data from table"
   ]
  },
  {
   "cell_type": "code",
   "execution_count": 8,
   "id": "9251e190-f70f-4fab-9a4c-7ff75c1cfebe",
   "metadata": {},
   "outputs": [
    {
     "name": "stdout",
     "output_type": "stream",
     "text": [
      "Updated row is: 1001, ABC Restaurant, Restaurant, 123 Street, CityX, 9876543210\n"
     ]
    }
   ],
   "source": [
    "# Read Data\n",
    "cursor.execute(\"SELECT *  FROM providers_data WHERE Provider_ID = 1001\")\n",
    "result1001 = cursor.fetchall()\n",
    "print(f'Updated row is: {\", \".join(map(str,result1001[0]))}')"
   ]
  },
  {
   "cell_type": "markdown",
   "id": "22583ef3-7150-429d-b1ee-e8e0e7de167e",
   "metadata": {},
   "source": [
    "#### 3.3 Updateing data to a row "
   ]
  },
  {
   "cell_type": "code",
   "execution_count": 9,
   "id": "059ebf56-9e89-4e54-9252-66c7d8d91f95",
   "metadata": {},
   "outputs": [
    {
     "name": "stdout",
     "output_type": "stream",
     "text": [
      "Updated Phone Number is: 9876543210\n"
     ]
    }
   ],
   "source": [
    "# Update Data\n",
    "cursor.execute(\"UPDATE providers_data SET Contact=9876543210 WHERE Provider_ID=1001\")\n",
    "conn.commit()\n",
    "cursor.execute(\"SELECT Contact FROM providers_data WHERE Provider_ID = 1001\")\n",
    "result_contact = cursor.fetchall()\n",
    "print(f'Updated Phone Number is: {\",\".join(result_contact[0])}')"
   ]
  },
  {
   "cell_type": "markdown",
   "id": "5165003e-a9b7-4e13-b889-401ab1f21daa",
   "metadata": {},
   "source": [
    "#### 3.4 Deleting data from a table"
   ]
  },
  {
   "cell_type": "code",
   "execution_count": 10,
   "id": "a95a6369-5607-4eb4-acc6-2f36aba133c9",
   "metadata": {},
   "outputs": [
    {
     "name": "stdout",
     "output_type": "stream",
     "text": [
      "Deletion result of row 1001: []\n"
     ]
    }
   ],
   "source": [
    "# Delete Data\n",
    "cursor.execute(\"DELETE FROM providers_data WHERE Provider_ID=1001\")\n",
    "conn.commit()\n",
    "cursor.execute(\"SELECT Contact FROM providers_data WHERE Provider_ID = 1001\")\n",
    "result_contact = cursor.fetchall()\n",
    "print(f'Deletion result of row 1001: {result_contact}')"
   ]
  },
  {
   "cell_type": "markdown",
   "id": "8c09b862-4abd-4010-8638-c5c9bc4ee35e",
   "metadata": {},
   "source": [
    "#### 4 MySQL Qurey EDA"
   ]
  },
  {
   "cell_type": "code",
   "execution_count": 11,
   "id": "140cbd0e-4004-42ac-9f96-64ca628812ab",
   "metadata": {},
   "outputs": [],
   "source": [
    "conn = mysql.connector.connect(\n",
    "    host=\"localhost\",\n",
    "    user=\"systemmanage\",\n",
    "    password=\"System123\",\n",
    "    database=\"food_wastage\"\n",
    ")\n",
    "cursor = conn.cursor()"
   ]
  },
  {
   "cell_type": "markdown",
   "id": "fe6c2959-571f-46ae-8727-157a868f5293",
   "metadata": {},
   "source": [
    "#### 4.1 Viewing tables"
   ]
  },
  {
   "cell_type": "code",
   "execution_count": 12,
   "id": "4670ca5f-f51b-4081-81a2-e7c547aa9a5b",
   "metadata": {},
   "outputs": [
    {
     "name": "stdout",
     "output_type": "stream",
     "text": [
      "\n",
      "-------------------------------\n",
      "columns in providers_data table\n",
      "-------------------------------\n",
      "\n",
      "claims_data\n",
      "food_listings_data\n",
      "providers_data\n",
      "receivers_data\n"
     ]
    }
   ],
   "source": [
    "cursor.execute(\"SHOW TABLES\")\n",
    "Tables = cursor.fetchall()\n",
    "print(f'''\n",
    "-------------------------------\n",
    "columns in providers_data table\n",
    "-------------------------------\n",
    "''')\n",
    "for col in Tables:\n",
    "    print(col[0])"
   ]
  },
  {
   "cell_type": "markdown",
   "id": "2280e7dd-9e78-45a3-a7e1-025b299ec12c",
   "metadata": {},
   "source": [
    "#### 4.2 Viewing Columns in tables"
   ]
  },
  {
   "cell_type": "code",
   "execution_count": 13,
   "id": "384bd887-ee5e-4152-ac48-227022cad653",
   "metadata": {},
   "outputs": [
    {
     "name": "stdout",
     "output_type": "stream",
     "text": [
      "\n",
      "-------------------------------\n",
      "columns in claims_data table\n",
      "-------------------------------\n",
      "\n",
      "Claim_ID\n",
      "Food_ID\n",
      "Receiver_ID\n",
      "Status\n",
      "Timestamp\n",
      "\n",
      "-------------------------------\n",
      "columns in food_listings_data table\n",
      "-------------------------------\n",
      "\n",
      "Food_ID\n",
      "Food_Name\n",
      "Quantity\n",
      "Expiry_Date\n",
      "Provider_ID\n",
      "Provider_Type\n",
      "Location\n",
      "Food_Type\n",
      "Meal_Type\n",
      "\n",
      "-------------------------------\n",
      "columns in providers_data table\n",
      "-------------------------------\n",
      "\n",
      "Provider_ID\n",
      "Name\n",
      "Type\n",
      "Address\n",
      "City\n",
      "Contact\n",
      "\n",
      "-------------------------------\n",
      "columns in receivers_data table\n",
      "-------------------------------\n",
      "\n",
      "Receiver_ID\n",
      "Name\n",
      "Type\n",
      "City\n",
      "Contact\n"
     ]
    }
   ],
   "source": [
    "cursor.execute(\"SHOW COLUMNS FROM claims_data\")\n",
    "claims_data_columns = cursor.fetchall()\n",
    "print(f'''\n",
    "-------------------------------\n",
    "columns in claims_data table\n",
    "-------------------------------\n",
    "''')\n",
    "for col in claims_data_columns:\n",
    "    print(col[0])\n",
    "\n",
    "cursor.execute(\"SHOW COLUMNS FROM food_listings_data\")\n",
    "food_listings_data_columns = cursor.fetchall()\n",
    "print(f'''\n",
    "-------------------------------\n",
    "columns in food_listings_data table\n",
    "-------------------------------\n",
    "''')\n",
    "for col in food_listings_data_columns:\n",
    "    print(col[0])\n",
    "\n",
    "cursor.execute(\"SHOW COLUMNS FROM providers_data\")\n",
    "providers_data_columns = cursor.fetchall()\n",
    "print(f'''\n",
    "-------------------------------\n",
    "columns in providers_data table\n",
    "-------------------------------\n",
    "''')\n",
    "for col in providers_data_columns:\n",
    "    print(col[0])\n",
    "\n",
    "cursor.execute(\"SHOW COLUMNS FROM receivers_data\")\n",
    "receivers_data_columns = cursor.fetchall()\n",
    "print(f'''\n",
    "-------------------------------\n",
    "columns in receivers_data table\n",
    "-------------------------------\n",
    "''')\n",
    "for col in receivers_data_columns:\n",
    "    print(col[0])"
   ]
  },
  {
   "cell_type": "markdown",
   "id": "e243cb4a-677d-42f9-ba18-0af4d7a02b26",
   "metadata": {},
   "source": [
    "#### 4.3 Null Column finding"
   ]
  },
  {
   "cell_type": "code",
   "execution_count": 14,
   "id": "a0668b6c-77f7-42f4-b3fd-44c6e494e7ca",
   "metadata": {},
   "outputs": [
    {
     "name": "stdout",
     "output_type": "stream",
     "text": [
      "The null column for claims_data are:0\n"
     ]
    }
   ],
   "source": [
    "\n",
    "# Get column names dynamically\n",
    "cursor.execute(\"SHOW COLUMNS FROM claims_data\")\n",
    "claims_data_columns = [col[0] for col in cursor.fetchall()]\n",
    "\n",
    "\n",
    "# Build WHERE clause to check NULL in any column\n",
    "null_conditions = \" OR \".join([f\"{col} IS NULL\" for col in claims_data_columns])\n",
    "\n",
    "# Query rows where any column is NULL\n",
    "query = f\"SELECT * FROM claims_data WHERE {null_conditions}\"\n",
    "cursor.execute(query)\n",
    "\n",
    "# Fetch results\n",
    "rows = cursor.fetchall()\n",
    "\n",
    "# Print results\n",
    "\n",
    "null_col_claims_data=[0]\n",
    "for row in rows:\n",
    "    null_col_claims_data+1\n",
    "print(f\"The null column for claims_data are:{null_col_claims_data[0]}\")"
   ]
  },
  {
   "cell_type": "markdown",
   "id": "d8899df3-ee27-490b-b9a0-33efb0cad53e",
   "metadata": {},
   "source": [
    "#### 4.4 Null value in Address"
   ]
  },
  {
   "cell_type": "code",
   "execution_count": 15,
   "id": "a3464032-f6ec-42af-9885-22003bb63766",
   "metadata": {},
   "outputs": [
    {
     "name": "stdout",
     "output_type": "stream",
     "text": [
      "\n",
      "--------------------------------------------------------\n",
      "1. Null in Address column of Provides data table\n",
      "--------------------------------------------------------\n",
      "\n",
      "[(0,)]\n",
      "\n"
     ]
    }
   ],
   "source": [
    "cursor.execute(\"SELECT COUNT(*) AS null_count FROM providers_data WHERE Address IS NULL\")\n",
    "result1 = cursor.fetchall()\n",
    "print(f'''\n",
    "--------------------------------------------------------\n",
    "1. Null in Address column of Provides data table\n",
    "--------------------------------------------------------\n",
    "\n",
    "{result1}\n",
    "''')"
   ]
  },
  {
   "cell_type": "markdown",
   "id": "0ee80aaf-f915-47ef-8b66-2228ee3f8b01",
   "metadata": {},
   "source": [
    "#### 4.5 Most frequent food providers"
   ]
  },
  {
   "cell_type": "code",
   "execution_count": 16,
   "id": "59a5592d-40b8-454d-b64d-2caf70003535",
   "metadata": {},
   "outputs": [
    {
     "name": "stdout",
     "output_type": "stream",
     "text": [
      "\n",
      "-------------------------------------------------\n",
      "2. Most contributing provider type\n",
      "-------------------------------------------------\n",
      "\n",
      "[('Supermarket', 262), ('Grocery Store', 256), ('Restaurant', 246), ('Catering Service', 236)]\n",
      "\n"
     ]
    }
   ],
   "source": [
    "cursor.execute(\"SELECT Type, COUNT(*) AS Count FROM providers_data GROUP BY Type ORDER BY Count DESC\")\n",
    "result2 = cursor.fetchall()\n",
    "print(f'''\n",
    "-------------------------------------------------\n",
    "2. Most contributing provider type\n",
    "-------------------------------------------------\n",
    "\n",
    "{result2}\n",
    "''')"
   ]
  },
  {
   "cell_type": "markdown",
   "id": "e583e4c1-dde1-48cc-8487-6a7a95a5575c",
   "metadata": {},
   "source": [
    "#### 4.6 Food availablity "
   ]
  },
  {
   "cell_type": "code",
   "execution_count": 17,
   "id": "015396a1-5f26-4cfd-bde4-16c606b820ee",
   "metadata": {},
   "outputs": [
    {
     "name": "stdout",
     "output_type": "stream",
     "text": [
      "\n",
      "-------------------------------------------------\n",
      "3. Total quantity of food available\n",
      "-------------------------------------------------\n",
      "\n",
      "[(Decimal('25794'),)]\n",
      "\n"
     ]
    }
   ],
   "source": [
    "cursor.execute(\"SELECT SUM(Quantity) AS TotalFood FROM food_listings_data\")\n",
    "result3 = cursor.fetchall()\n",
    "print(f'''\n",
    "-------------------------------------------------\n",
    "3. Total quantity of food available\n",
    "-------------------------------------------------\n",
    "\n",
    "{result3}\n",
    "''')"
   ]
  },
  {
   "cell_type": "markdown",
   "id": "b2a860ca-728e-4052-a779-1392c825731d",
   "metadata": {},
   "source": [
    "#### 4.7 food Claims"
   ]
  },
  {
   "cell_type": "code",
   "execution_count": 18,
   "id": "0ec52526-de52-4c16-acd0-cc8d011d40e5",
   "metadata": {},
   "outputs": [
    {
     "name": "stdout",
     "output_type": "stream",
     "text": [
      "\n",
      "-------------------------------------------------\n",
      "4. Claims by status\n",
      "-------------------------------------------------\n",
      "[('Pending', 325), ('Cancelled', 336), ('Completed', 339)]\n"
     ]
    }
   ],
   "source": [
    "cursor.execute(\"SELECT Status, COUNT(*) AS TotalClaims FROM claims_data GROUP BY Status\")\n",
    "result4 = cursor.fetchall()\n",
    "print(f'''\n",
    "-------------------------------------------------\n",
    "4. Claims by status\n",
    "-------------------------------------------------\n",
    "{result4}''')"
   ]
  },
  {
   "cell_type": "markdown",
   "id": "6b242c7a-7246-4faf-b7c9-ff6fb80bfa50",
   "metadata": {},
   "source": [
    "### 5. Streamlit App development "
   ]
  },
  {
   "cell_type": "markdown",
   "id": "83a03d3b-e186-4970-95a0-ded2dfeac0a4",
   "metadata": {},
   "source": [
    "#### 5.1 Streamlit App for MySql Query"
   ]
  },
  {
   "cell_type": "code",
   "execution_count": 19,
   "id": "ce7d119b-8fd4-4fff-8f44-bda597e0570a",
   "metadata": {},
   "outputs": [
    {
     "name": "stdout",
     "output_type": "stream",
     "text": [
      "Overwriting FoodWastageQuery.py\n"
     ]
    }
   ],
   "source": [
    "%%writefile FoodWastageQuery.py\n",
    "import streamlit as st\n",
    "import pandas as pd\n",
    "import mysql.connector\n",
    "\n",
    "st.set_page_config(page_title=\"Basic Query\",layout=\"wide\")\n",
    "\n",
    "def create_connection():\n",
    "    return mysql.connector.connect(\n",
    "            host=\"127.0.0.1\",\n",
    "            user=\"systemmanage\",       \n",
    "            password=\"System123\",      \n",
    "            database=\"food_wastage\"    \n",
    "        )\n",
    "\n",
    "\n",
    "def run_query(query):\n",
    "    conn = create_connection()\n",
    "    cursor = conn.cursor(dictionary=True)\n",
    "    cursor.execute(query)\n",
    "    rows = cursor.fetchall()\n",
    "    conn.close()\n",
    "    return pd.DataFrame(rows)\n",
    "\n",
    "# ----------------------------\n",
    "# Sidebar Filters\n",
    "# ----------------------------\n",
    "st.sidebar.header(\"Filter Options\")\n",
    "\n",
    "city_filter = st.sidebar.text_input(\"City (leave blank for all)\")\n",
    "Location_filter = st.sidebar.text_input(\"Location (leave blank for all)\")\n",
    "provider_filter = st.sidebar.text_input(\"Name (leave blank for all)\")\n",
    "food_filter = st.sidebar.text_input(\"Food_Type (leave blank for all)\")\n",
    "meal_filter = st.sidebar.text_input(\"Meal Type (leave blank for all)\")\n",
    "\n",
    "filters = []\n",
    "if city_filter:\n",
    "    filters.append(f\"city = '{city_filter}'\")\n",
    "if Location_filter:\n",
    "    filters.append(f\"Location = '{Location_filter}'\")\n",
    "if provider_filter:\n",
    "    filters.append(f\"Name = '{provider_filter}'\")\n",
    "if food_filter:\n",
    "    filters.append(f\"Food_Type = '{food_filter}'\")\n",
    "if meal_filter:\n",
    "    filters.append(f\"Meal_Type = '{meal_filter}'\")\n",
    "\n",
    "where_clause = \" AND \".join(filters)\n",
    "if where_clause:\n",
    "    where_clause = \"WHERE \" + where_clause\n",
    "\n",
    "# ----------------------------\n",
    "# Example Queries\n",
    "# ----------------------------\n",
    "queries = {\n",
    "#--------------------------------------------------------------------------------------------------------------\n",
    "    # 1.food proviers data\n",
    "#--------------------------------------------------------------------------------------------------------------\n",
    "    \"Food Providers\": f\"SELECT * FROM providers_data {where_clause}\",\n",
    "\n",
    "#--------------------------------------------------------------------------------------------------------------\n",
    "    # 2.food Receivers data\n",
    "#--------------------------------------------------------------------------------------------------------------\n",
    "    \"Food Receivers\": f\"SELECT * FROM receivers_data {where_clause}\",\n",
    "    \n",
    "#--------------------------------------------------------------------------------------------------------------\n",
    "    # 3.How many food providers and receivers are there in each city.\n",
    "#--------------------------------------------------------------------------------------------------------------\n",
    "     \"Food providers and receivers in each city\": f\"\"\"SELECT\n",
    "    City,\n",
    "    SUM(total_providers) AS total_providers,\n",
    "    SUM(total_receivers) AS total_receivers\n",
    "FROM (\n",
    "    SELECT City, COUNT(DISTINCT Provider_ID) AS total_providers, 0 AS total_receivers\n",
    "    FROM providers_data\n",
    "    GROUP BY City\n",
    "\n",
    "    UNION ALL\n",
    "\n",
    "    SELECT City, 0 AS total_providers, COUNT(DISTINCT Receiver_ID) AS total_receivers\n",
    "    FROM receivers_data\n",
    "    GROUP BY City\n",
    ") AS combined\n",
    "{where_clause}\n",
    "GROUP BY City\n",
    "ORDER BY City;\"\"\",\n",
    "\n",
    "#--------------------------------------------------------------------------------------------------------------\n",
    "    # 4.Which type of food provider(restarant,grocery store) contributes the most food.\n",
    "#--------------------------------------------------------------------------------------------------------------\n",
    "    \"Most valuable food provider\":f\"\"\"SELECT max(Provider_Type) AS Food_Providers FROM food_listings_data;\"\"\",\n",
    "\n",
    "#--------------------------------------------------------------------------------------------------------------\n",
    "    # 5.What is the contact information of food providers in a specific city.\n",
    "#--------------------------------------------------------------------------------------------------------------\n",
    "    \"Contact information of food providers\": f\"SELECT Name,Address,Contact FROM providers_data {where_clause}\",\n",
    "\n",
    "#--------------------------------------------------------------------------------------------------------------\n",
    "    # 6. Which receivers have claimed the most food.\n",
    "#--------------------------------------------------------------------------------------------------------------\n",
    "    \"Most frequnt Food claimer\": f\"\"\"SELECT Name \n",
    "FROM receivers_data\n",
    "WHERE Receiver_ID IN (\n",
    "    SELECT max(Receiver_ID)\n",
    "    FROM claims_data\n",
    "    WHERE Status = 'Completed'\n",
    ");\"\"\",\n",
    "\n",
    "#--------------------------------------------------------------------------------------------------------------\n",
    "    # 7.What is the total quantity of food available form all provides.\n",
    "#--------------------------------------------------------------------------------------------------------------\n",
    "    \"Total Quantity of food\": f\"\"\"SELECT sum(Quantity) AS Total_food FROM food_listings_data\n",
    "                    WHERE Provider_ID IN (SELECT Provider_ID FROM providers_data);\"\"\",\n",
    "\n",
    "#--------------------------------------------------------------------------------------------------------------\n",
    "    # 8.Which city hast the highest numnber of food listing.\n",
    "#--------------------------------------------------------------------------------------------------------------\n",
    "    \"Highest Count of City\": f\"\"\"SELECT Location AS City_Name, COUNT(*) AS Highest_count \n",
    "        FROM food_listings_data {where_clause} GROUP BY Location ORDER BY Highest_count DESC\"\"\",\n",
    "\n",
    "#--------------------------------------------------------------------------------------------------------------\n",
    "    # 9.What are the most commonly available food types.\n",
    "#--------------------------------------------------------------------------------------------------------------\n",
    "    \"Common Food types\": f\"\"\"\n",
    "     SELECT Food_Type AS Type, COUNT(*) AS count\n",
    "     FROM food_listings_data\n",
    "     {where_clause} \n",
    "     GROUP BY Food_Type\n",
    "     ORDER BY count DESC\"\"\",\n",
    "\n",
    "#--------------------------------------------------------------------------------------------------------------\n",
    "    # 10.How Many food claims have been made for each food item.\n",
    "#--------------------------------------------------------------------------------------------------------------\n",
    "    \"Food Claim Details\": f\"\"\"\n",
    "     SELECT Food_Name, COUNT(*) AS count\n",
    "     FROM food_listings_data\n",
    "     WHERE Food_ID IN (SELECT Food_ID FROM claims_data) \n",
    "     GROUP BY Food_Name\n",
    "     ORDER BY count DESC\"\"\",\n",
    "\n",
    "#--------------------------------------------------------------------------------------------------------------\n",
    "    # 11.Which Provider has had the highest number of successful food claims.\n",
    "#--------------------------------------------------------------------------------------------------------------\n",
    "    \"Highes Food climes\": f\"\"\"\n",
    "     SELECT Name, COUNT(Provider_ID) AS provider_count\n",
    "     FROM providers_data\n",
    "     WHERE Provider_ID IN (SELECT Provider_ID FROM food_listings_data)\n",
    "     GROUP BY Name\n",
    "     ORDER BY provider_count DESC\"\"\",\n",
    "\n",
    "#--------------------------------------------------------------------------------------------------------------\n",
    "    # 12.What percentage of food claims are completed vs. pending vs canceled\n",
    "#--------------------------------------------------------------------------------------------------------------\n",
    "    \"Claim Percentage\": f\"\"\"\n",
    "    SELECT \n",
    "    Status,\n",
    "    COUNT(*) AS count,\n",
    "    ROUND(100 * COUNT(*) / (SELECT COUNT(*) FROM claims_data), 2) AS percentage\n",
    "    FROM claims_data\n",
    "    GROUP BY Status;\"\"\",\n",
    "\n",
    "#--------------------------------------------------------------------------------------------------------------\n",
    "    # 13.What are the average quantiy of food claimed per receiver\n",
    "#--------------------------------------------------------------------------------------------------------------\n",
    "    \"Food Claimed per receiver\": f\"\"\"SELECT \n",
    "    r.Receiver_ID,\n",
    "    r.Name,\n",
    "    COUNT(c.Claim_ID) AS total_claims\n",
    "    FROM \n",
    "    receivers_data r\n",
    "    LEFT JOIN \n",
    "    claims_data c ON r.Receiver_ID = c.Receiver_ID\n",
    "    GROUP BY \n",
    "    r.Receiver_ID, r.Name\n",
    "    ;\"\"\",\n",
    "\n",
    "#--------------------------------------------------------------------------------------------------------------\n",
    "    # 14.Which meal type(brekfast,lunch,dinner,snacks) is claimed the most\n",
    "#--------------------------------------------------------------------------------------------------------------\n",
    "    \"Meal type claimed\": f\"\"\"\n",
    "    SELECT  Meal_type as Meal, count(Meal_Type) as Conts\n",
    "    FROM food_listings_data\n",
    "    {where_clause}\n",
    "    GROUP BY Meal_type\n",
    "    ORDER BY Conts DESC;\"\"\",\n",
    "\n",
    "#--------------------------------------------------------------------------------------------------------------\n",
    "    # 15.What is the total quantiy of food donated by each provider.\n",
    "#--------------------------------------------------------------------------------------------------------------\n",
    "    \"Quantity by Provider\": f\"\"\"SELECT \n",
    "    p.Name,\n",
    "    SUM(f.Quantity) AS Total_Food_donated\n",
    "    FROM \n",
    "    providers_data p\n",
    "    JOIN \n",
    "    food_listings_data f ON p.Provider_ID = f.Provider_ID\n",
    "    {where_clause}\n",
    "    GROUP BY \n",
    "    p.Name;\"\"\",\n",
    "    \n",
    "}\n",
    "\n",
    "# ----------------------------\n",
    "# UI to Select Query\n",
    "# ----------------------------\n",
    "st.title(\"Food Wastage Management Query\")\n",
    "\n",
    "selected_query = st.selectbox(\"Select a Query\", list(queries.keys()))\n",
    "\n",
    "if st.button(\"Run Query\"):\n",
    "    df = run_query(queries[selected_query])\n",
    "    st.dataframe(df)\n",
    "\n",
    "    # Optional: Download button\n",
    "    st.download_button(\"Download CSV\", df.to_csv(index=False), \"result.csv\", \"text/csv\")\n"
   ]
  },
  {
   "cell_type": "markdown",
   "id": "e10423be-5871-40c4-971d-834ba4960581",
   "metadata": {},
   "source": [
    "#### 5.2 Streamlit App for CRUD operrations"
   ]
  },
  {
   "cell_type": "code",
   "execution_count": 25,
   "id": "e372cc97-115e-45df-a0ff-0b727822a16f",
   "metadata": {},
   "outputs": [
    {
     "name": "stdout",
     "output_type": "stream",
     "text": [
      "Writing LFWMS.py\n"
     ]
    }
   ],
   "source": [
    "%%writefile LFWMS.py\n",
    "import streamlit as st\n",
    "import pandas as pd\n",
    "import mysql.connector\n",
    "\n",
    "st.set_page_config(page_title=\"Food data Entry\",layout=\"wide\")\n",
    "\n",
    "# --- DB connection ---\n",
    "def create_connection():\n",
    "    return mysql.connector.connect(\n",
    "            host=\"127.0.0.1\",\n",
    "            user=\"systemmanage\",       \n",
    "            password=\"System123\",     \n",
    "            database=\"food_wastage\"    \n",
    "        )\n",
    "\n",
    "# --- Fetch tables ---\n",
    "def get_tables():\n",
    "    conn = create_connection()   # changed\n",
    "    cursor = conn.cursor()\n",
    "    cursor.execute(\"SHOW TABLES\")\n",
    "    tables = [row[0] for row in cursor.fetchall()]\n",
    "    conn.close()\n",
    "    return tables\n",
    "\n",
    "# --- Load data ---\n",
    "def load_data(table_name):\n",
    "    conn = create_connection()   # changed\n",
    "    df = pd.read_sql(f\"SELECT * FROM {table_name}\", conn)\n",
    "    conn.close()\n",
    "    return df\n",
    "\n",
    "# --- Add record ---\n",
    "def add_record(table_name, values):\n",
    "    conn = create_connection()   # changed\n",
    "    cursor = conn.cursor()\n",
    "    placeholders = \", \".join([\"%s\"] * len(values))\n",
    "    query = f\"INSERT INTO {table_name} VALUES ({placeholders})\"\n",
    "    cursor.execute(query, values)\n",
    "    conn.commit()\n",
    "    conn.close()\n",
    "\n",
    "# --- Get record by ID ---\n",
    "def get_record_by_id(table_name, pk_column, pk_value):\n",
    "    conn = get_connection()\n",
    "    cursor = conn.cursor(dictionary=True)\n",
    "    cursor.execute(f\"SELECT * FROM {table_name} WHERE {pk_column}=%s\", (pk_value,))\n",
    "    record = cursor.fetchone()\n",
    "    conn.close()\n",
    "    return record\n",
    "\n",
    "# --- Update record ---\n",
    "def update_record(table_name, pk_column, pk_value, updates):\n",
    "    old_record = get_record_by_id(table_name, pk_column, pk_value)\n",
    "    if not old_record:\n",
    "        return False\n",
    "\n",
    "    # Keep old values if blank\n",
    "    for col in updates:\n",
    "        if updates[col] == \"\" or updates[col] is None:\n",
    "            updates[col] = old_record[col]\n",
    "\n",
    "    set_clause = \", \".join([f\"{col}=%s\" for col in updates.keys()])\n",
    "    values = list(updates.values()) + [pk_value]\n",
    "\n",
    "    conn = get_connection()\n",
    "    cursor = conn.cursor()\n",
    "    cursor.execute(f\"UPDATE {table_name} SET {set_clause} WHERE {pk_column}=%s\", values)\n",
    "    conn.commit()\n",
    "    conn.close()\n",
    "    return True\n",
    "\n",
    "# --- Delete record ---\n",
    "def delete_record(table_name, pk_column, pk_value):\n",
    "    conn = get_connection()\n",
    "    cursor = conn.cursor()\n",
    "    cursor.execute(f\"DELETE FROM {table_name} WHERE {pk_column}=%s\", (pk_value,))\n",
    "    conn.commit()\n",
    "    conn.close()\n",
    "\n",
    "# --- Streamlit UI ---\n",
    "st.title(\"Food wast Data management \")\n",
    "tables = [\"claims_data\", \"food_listings_data\",\"providers_data\", \"receivers_data\"] \n",
    "\n",
    "tables = get_tables()\n",
    "selected_table = st.sidebar.selectbox(\"Select Table\", tables)\n",
    "menu = [\"View\", \"Add\", \"Update\", \"Delete\"]\n",
    "choice = st.sidebar.selectbox(\"Menu\", menu)\n",
    "\n",
    "if choice == \"View\":\n",
    "    st.subheader(f\"All Records from {selected_table}\")\n",
    "    df = load_data(selected_table)\n",
    "    st.dataframe(df)\n",
    "\n",
    "elif choice == \"Add\":\n",
    "    st.subheader(f\"Add Record to {selected_table}\")\n",
    "    df = load_data(selected_table)\n",
    "    cols = df.columns.tolist()\n",
    "\n",
    "    inputs = []\n",
    "    for col in cols:\n",
    "        val = st.text_input(f\"{col}\")\n",
    "        inputs.append(val)\n",
    "\n",
    "    if st.button(\"Add\"):\n",
    "        add_record(selected_table, inputs)\n",
    "        st.success(\"Record added successfully!\")\n",
    "\n",
    "elif choice == \"Update\":\n",
    "    st.subheader(f\"Update Record in {selected_table}\")\n",
    "    df = load_data(selected_table)\n",
    "    st.dataframe(df)\n",
    "\n",
    "    pk_column = df.columns[0]   # assume first column is primary key\n",
    "    pk_value = st.text_input(f\"Enter {pk_column} of record to update\")\n",
    "\n",
    "    updates = {}\n",
    "    for col in df.columns[1:]:\n",
    "        updates[col] = st.text_input(f\"{col} (leave blank to keep old)\")\n",
    "\n",
    "    if st.button(\"Update\"):\n",
    "        if update_record(selected_table, pk_column, pk_value, updates):\n",
    "            st.success(\"Record updated successfully!\")\n",
    "        else:\n",
    "            st.error(\"Record not found!\")\n",
    "\n",
    "elif choice == \"Delete\":\n",
    "    st.subheader(f\"Delete Record from {selected_table}\")\n",
    "    df = load_data(selected_table)\n",
    "    st.dataframe(df)\n",
    "\n",
    "    pk_column = df.columns[0]   # assume first column is primary key\n",
    "    pk_value = st.text_input(f\"Enter {pk_column} of record to delete\")\n",
    "\n",
    "    if st.button(\"Delete\"):\n",
    "        delete_record(selected_table, pk_column, pk_value)\n",
    "        st.warning(\"Record deleted successfully!\")"
   ]
  },
  {
   "cell_type": "markdown",
   "id": "0775f5f4-cac0-4878-b363-5eb9de6bdfe2",
   "metadata": {},
   "source": [
    "#### 5.3 Wellcome Page of Streamlite App"
   ]
  },
  {
   "cell_type": "markdown",
   "id": "8548b473-3785-4457-a6e4-57ed162c3bbf",
   "metadata": {},
   "source": [
    "###### Copy the above curd.py and FoodWastageQuery.py files in pages folder after runing the above tow cells. ######\n",
    "###### run the welcome.py file from panda command line as \"your dir path\\streamlit run welcome.py\" ######"
   ]
  },
  {
   "cell_type": "code",
   "execution_count": 24,
   "id": "823cfc84-8b16-4c53-9a57-bbec49aa787a",
   "metadata": {},
   "outputs": [
    {
     "name": "stdout",
     "output_type": "stream",
     "text": [
      "Overwriting welcome.py\n"
     ]
    }
   ],
   "source": [
    "\n",
    "%%writefile welcome.py\n",
    "import streamlit as st\n",
    "\n",
    "st.set_page_config(page_title=\"Home\",layout=\"wide\")\n",
    "\n",
    "st.markdown(\n",
    "    \"<h1 style='text-align: center; color: green;'><u>Local Food Wastage Management System (LFWMS)</u></h1>\",\n",
    "    unsafe_allow_html=True\n",
    ")\n",
    "col1, col2, col3 = st.columns([1,2,1])  # middle column is wider\n",
    "with col2:\n",
    "    st.image(\"images/food.jpg\", caption=\"Food Waste Management\", use_container_width=True)\n",
    "\n",
    "# Only link files from inside /pages\n",
    "st.sidebar.page_link(\"pages/LFWMS.py\", label=\"Food data Entry\")\n",
    "st.sidebar.page_link(\"pages/FoodWastageQuery.py\", label=\"Basic Query\")\n",
    "\n",
    "st.write(f'''Welcome to the Local Food Wastage Management System (LFWMS). \n",
    "This platform is designed to connect restaurants and individuals with surplus \n",
    "food to those in need, helping reduce food waste and address food insecurity in \n",
    "your community. By leveraging technology, geolocation, and data analysis, LFWMS \n",
    "makes it easy to list, find, and claim surplus food while promoting responsible \n",
    "food management and social good. Join us in building a more sustainable and \n",
    "compassionate future—one meal at a time.''')"
   ]
  }
 ],
 "metadata": {
  "kernelspec": {
   "display_name": "Python 3 (ipykernel)",
   "language": "python",
   "name": "python3"
  },
  "language_info": {
   "codemirror_mode": {
    "name": "ipython",
    "version": 3
   },
   "file_extension": ".py",
   "mimetype": "text/x-python",
   "name": "python",
   "nbconvert_exporter": "python",
   "pygments_lexer": "ipython3",
   "version": "3.13.5"
  }
 },
 "nbformat": 4,
 "nbformat_minor": 5
}
